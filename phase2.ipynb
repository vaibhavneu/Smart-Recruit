{
 "cells": [
  {
   "cell_type": "code",
   "execution_count": 2,
   "id": "2aac17a0-6fc5-4701-b225-74061e30d3c1",
   "metadata": {},
   "outputs": [],
   "source": [
    "import pandas as pd\n",
    "import numpy as np\n",
    "import matplotlib.pyplot as plt\n",
    "import scipy as sp\n",
    "from sklearn.ensemble import GradientBoostingClassifier\n",
    "from sklearn.linear_model import LogisticRegression\n",
    "from sklearn.neural_network import MLPClassifier\n",
    "from sklearn.metrics import average_precision_score, roc_auc_score, f1_score, precision_score, \\\n",
    "recall_score, cohen_kappa_score, classification_report,confusion_matrix\n",
    "from sklearn.model_selection import train_test_split\n",
    "import seaborn as sns\n",
    "from datetime import datetime\n",
    "from sklearn.preprocessing import StandardScaler\n",
    "pd.options.display.max_columns = 999\n",
    "pd.options.display.max_rows = 50\n",
    "\n",
    "class color:\n",
    "   PURPLE = '\\033[95m'\n",
    "   CYAN = '\\033[96m'\n",
    "   DARKCYAN = '\\033[36m'\n",
    "   BLUE = '\\033[94m'\n",
    "   GREEN = '\\033[92m'\n",
    "   YELLOW = '\\033[93m'\n",
    "   RED = '\\033[91m'\n",
    "   BOLD = '\\033[1m'\n",
    "   UNDERLINE = '\\033[4m'\n",
    "   END = '\\033[0m'"
   ]
  },
  {
   "cell_type": "code",
   "execution_count": 3,
   "id": "b95b1743-60bf-4567-9056-967224742d2a",
   "metadata": {},
   "outputs": [],
   "source": [
    "events = pd.read_csv('C:/Zeaul/minordata/events.csv')\n",
    "info = pd.read_csv('C:/Zeaul/minordata/ginf.csv')"
   ]
  },
  {
   "cell_type": "code",
   "execution_count": 4,
   "id": "00c60100-77ff-4dea-8fdc-7e42deafe335",
   "metadata": {},
   "outputs": [],
   "source": [
    "events = events.merge(info[['id_odsp', 'country', 'date']], on='id_odsp', how='left')"
   ]
  },
  {
   "cell_type": "code",
   "execution_count": 5,
   "id": "f88ad632-9631-48fd-84bf-ae35809cc7e2",
   "metadata": {},
   "outputs": [],
   "source": [
    "extract_year = lambda x: datetime.strptime(x, \"%Y-%m-%d\").year\n",
    "events['year'] = [extract_year(x) for key, x in enumerate(events['date'])]"
   ]
  },
  {
   "cell_type": "code",
   "execution_count": 6,
   "id": "19e93ed9-edc6-41eb-a521-3274b59325da",
   "metadata": {},
   "outputs": [],
   "source": [
    "shots = events[events.event_type==1]"
   ]
  },
  {
   "cell_type": "code",
   "execution_count": 7,
   "id": "8a383aed-39c9-4582-a4b1-98f73a4e112e",
   "metadata": {},
   "outputs": [],
   "source": [
    "data = pd.get_dummies(shots.iloc[:,-8:-3], columns=['location', 'bodypart','assist_method', 'situation'])\n",
    "data.columns = ['fast_break', 'loc_centre_box', 'loc_diff_angle_lr', 'diff_angle_left', 'diff_angle_right',\n",
    "                'left_side_box', 'left_side_6ybox', 'right_side_box', 'right_side_6ybox', 'close_range',\n",
    "                'penalty', 'outside_box', 'long_range', 'more_35y', 'more_40y', 'not_recorded', 'right_foot', \n",
    "                'left_foot', 'header', 'no_assist', 'assist_pass', 'assist_cross', 'assist_header',\n",
    "                'assist_through_ball', 'open_play', 'set_piece', 'corner', 'free_kick']\n",
    "data['is_goal'] = shots['is_goal']"
   ]
  },
  {
   "cell_type": "code",
   "execution_count": 8,
   "id": "70abf734-0b35-4d1c-89df-d27d0e7e6b92",
   "metadata": {},
   "outputs": [
    {
     "name": "stdout",
     "output_type": "stream",
     "text": [
      "229135\n",
      "24441\n",
      "28\n"
     ]
    }
   ],
   "source": [
    "print(len(data))\n",
    "print(data.is_goal.sum())\n",
    "print(len(data.columns)-1)"
   ]
  },
  {
   "cell_type": "code",
   "execution_count": 9,
   "id": "51cc9489-4e91-4417-91b1-9c119e6344de",
   "metadata": {},
   "outputs": [],
   "source": [
    "X = data.iloc[:,:-1]\n",
    "y = data.iloc[:,-1]\n",
    "X_train, X_test, y_train, y_test = train_test_split(X, y, test_size=0.35, random_state=1)"
   ]
  },
  {
   "cell_type": "code",
   "execution_count": 10,
   "id": "6c8954b0-5f70-47d8-bd9c-3e4d0ff99e6f",
   "metadata": {},
   "outputs": [],
   "source": [
    "from hyperopt import fmin, tpe, hp, STATUS_OK, Trials\n",
    "\n",
    "def evaluate_model(params): \n",
    "    model = GradientBoostingClassifier(\n",
    "                        learning_rate=params['learning_rate'],\n",
    "                        min_samples_leaf=params['min_samples_leaf'],\n",
    "                        max_depth = params['max_depth'],\n",
    "                        max_features = params['max_features']\n",
    "                        )\n",
    "\n",
    "    model.fit(X_train, y_train)\n",
    "    return {\n",
    "        'learning_rate': params['learning_rate'],\n",
    "        'min_samples_leaf': params['min_samples_leaf'],\n",
    "        'max_depth': params['max_depth'],\n",
    "        'max_features': params['max_features'],\n",
    "        'train_ROCAUC': roc_auc_score(y_train, model.predict_proba(X_train)[:, 1]),\n",
    "        'test_ROCAUC': roc_auc_score(y_test, model.predict_proba(X_test)[:, 1]),\n",
    "        'recall': recall_score(y_test, model.predict(X_test)),\n",
    "        'precision': precision_score(y_test, model.predict(X_test)),\n",
    "        'f1_score': f1_score(y_test, model.predict(X_test)),\n",
    "        'train_accuracy': model.score(X_train, y_train),\n",
    "        'test_accuracy': model.score(X_test, y_test),\n",
    "    }\n",
    "\n",
    "def objective(params):\n",
    "    res = evaluate_model(params)\n",
    "    \n",
    "    res['loss'] = - res['test_ROCAUC'] # Esta loss es la que hyperopt intenta minimizar\n",
    "    res['status'] = STATUS_OK # Asi le decimos a hyperopt que el experimento salio bien\n",
    "    return res \n",
    "\n",
    "hyperparameter_space = {\n",
    "        'learning_rate': hp.uniform('learning_rate', 0.05, 0.3),\n",
    "        'min_samples_leaf': hp.choice('min_samples_leaf', range(15, 200)),\n",
    "        'max_depth': hp.choice('max_depth', range(2, 20)),\n",
    "        'max_features': hp.choice('max_features', range(3, 27))\n",
    "}"
   ]
  },
  {
   "cell_type": "code",
   "execution_count": 11,
   "id": "cce5b304-edd9-44ee-a42d-b12e789472f6",
   "metadata": {},
   "outputs": [
    {
     "name": "stdout",
     "output_type": "stream",
     "text": [
      "100%|███████████████████████████████████████████████| 50/50 [12:55<00:00, 15.50s/trial, best loss: -0.8194803613066414]\n"
     ]
    }
   ],
   "source": [
    "trials = Trials()\n",
    "fmin(\n",
    "    objective,\n",
    "    space=hyperparameter_space,\n",
    "    algo=tpe.suggest,\n",
    "    max_evals=50,\n",
    "    trials=trials\n",
    ");"
   ]
  },
  {
   "cell_type": "code",
   "execution_count": 12,
   "id": "cbb3a869-d804-4b62-8ca9-a0338a37c5ee",
   "metadata": {},
   "outputs": [
    {
     "data": {
      "text/html": [
       "<div>\n",
       "<style scoped>\n",
       "    .dataframe tbody tr th:only-of-type {\n",
       "        vertical-align: middle;\n",
       "    }\n",
       "\n",
       "    .dataframe tbody tr th {\n",
       "        vertical-align: top;\n",
       "    }\n",
       "\n",
       "    .dataframe thead th {\n",
       "        text-align: right;\n",
       "    }\n",
       "</style>\n",
       "<table border=\"1\" class=\"dataframe\">\n",
       "  <thead>\n",
       "    <tr style=\"text-align: right;\">\n",
       "      <th></th>\n",
       "      <th>learning_rate</th>\n",
       "      <th>min_samples_leaf</th>\n",
       "      <th>max_depth</th>\n",
       "      <th>max_features</th>\n",
       "      <th>train_ROCAUC</th>\n",
       "      <th>test_ROCAUC</th>\n",
       "      <th>recall</th>\n",
       "      <th>precision</th>\n",
       "      <th>f1_score</th>\n",
       "      <th>train_accuracy</th>\n",
       "      <th>test_accuracy</th>\n",
       "      <th>loss</th>\n",
       "      <th>status</th>\n",
       "    </tr>\n",
       "  </thead>\n",
       "  <tbody>\n",
       "    <tr>\n",
       "      <th>6</th>\n",
       "      <td>0.284165</td>\n",
       "      <td>33</td>\n",
       "      <td>3</td>\n",
       "      <td>18</td>\n",
       "      <td>0.817031</td>\n",
       "      <td>0.818881</td>\n",
       "      <td>0.269167</td>\n",
       "      <td>0.713751</td>\n",
       "      <td>0.390915</td>\n",
       "      <td>0.910378</td>\n",
       "      <td>0.911058</td>\n",
       "      <td>-0.818881</td>\n",
       "      <td>ok</td>\n",
       "    </tr>\n",
       "    <tr>\n",
       "      <th>16</th>\n",
       "      <td>0.126393</td>\n",
       "      <td>16</td>\n",
       "      <td>5</td>\n",
       "      <td>9</td>\n",
       "      <td>0.817418</td>\n",
       "      <td>0.818618</td>\n",
       "      <td>0.268815</td>\n",
       "      <td>0.714152</td>\n",
       "      <td>0.390602</td>\n",
       "      <td>0.910472</td>\n",
       "      <td>0.911058</td>\n",
       "      <td>-0.818618</td>\n",
       "      <td>ok</td>\n",
       "    </tr>\n",
       "    <tr>\n",
       "      <th>24</th>\n",
       "      <td>0.163965</td>\n",
       "      <td>30</td>\n",
       "      <td>12</td>\n",
       "      <td>20</td>\n",
       "      <td>0.819141</td>\n",
       "      <td>0.818126</td>\n",
       "      <td>0.268932</td>\n",
       "      <td>0.710911</td>\n",
       "      <td>0.390240</td>\n",
       "      <td>0.910586</td>\n",
       "      <td>0.910883</td>\n",
       "      <td>-0.818126</td>\n",
       "      <td>ok</td>\n",
       "    </tr>\n",
       "    <tr>\n",
       "      <th>19</th>\n",
       "      <td>0.269111</td>\n",
       "      <td>41</td>\n",
       "      <td>18</td>\n",
       "      <td>12</td>\n",
       "      <td>0.819261</td>\n",
       "      <td>0.818048</td>\n",
       "      <td>0.268932</td>\n",
       "      <td>0.710469</td>\n",
       "      <td>0.390173</td>\n",
       "      <td>0.910600</td>\n",
       "      <td>0.910858</td>\n",
       "      <td>-0.818048</td>\n",
       "      <td>ok</td>\n",
       "    </tr>\n",
       "    <tr>\n",
       "      <th>43</th>\n",
       "      <td>0.175029</td>\n",
       "      <td>139</td>\n",
       "      <td>8</td>\n",
       "      <td>16</td>\n",
       "      <td>0.818138</td>\n",
       "      <td>0.819110</td>\n",
       "      <td>0.267992</td>\n",
       "      <td>0.715766</td>\n",
       "      <td>0.389973</td>\n",
       "      <td>0.910452</td>\n",
       "      <td>0.911095</td>\n",
       "      <td>-0.819110</td>\n",
       "      <td>ok</td>\n",
       "    </tr>\n",
       "  </tbody>\n",
       "</table>\n",
       "</div>"
      ],
      "text/plain": [
       "    learning_rate  min_samples_leaf  max_depth  max_features  train_ROCAUC  \\\n",
       "6        0.284165                33          3            18      0.817031   \n",
       "16       0.126393                16          5             9      0.817418   \n",
       "24       0.163965                30         12            20      0.819141   \n",
       "19       0.269111                41         18            12      0.819261   \n",
       "43       0.175029               139          8            16      0.818138   \n",
       "\n",
       "    test_ROCAUC    recall  precision  f1_score  train_accuracy  test_accuracy  \\\n",
       "6      0.818881  0.269167   0.713751  0.390915        0.910378       0.911058   \n",
       "16     0.818618  0.268815   0.714152  0.390602        0.910472       0.911058   \n",
       "24     0.818126  0.268932   0.710911  0.390240        0.910586       0.910883   \n",
       "19     0.818048  0.268932   0.710469  0.390173        0.910600       0.910858   \n",
       "43     0.819110  0.267992   0.715766  0.389973        0.910452       0.911095   \n",
       "\n",
       "        loss status  \n",
       "6  -0.818881     ok  \n",
       "16 -0.818618     ok  \n",
       "24 -0.818126     ok  \n",
       "19 -0.818048     ok  \n",
       "43 -0.819110     ok  "
      ]
     },
     "execution_count": 12,
     "metadata": {},
     "output_type": "execute_result"
    }
   ],
   "source": [
    "pd.DataFrame(trials.results).sort_values(by='f1_score', ascending=False).head(5)"
   ]
  },
  {
   "cell_type": "code",
   "execution_count": 13,
   "id": "f7fff1c4-dd0d-4019-a9c9-9e32fec60423",
   "metadata": {},
   "outputs": [
    {
     "data": {
      "text/html": [
       "<style>#sk-container-id-1 {color: black;}#sk-container-id-1 pre{padding: 0;}#sk-container-id-1 div.sk-toggleable {background-color: white;}#sk-container-id-1 label.sk-toggleable__label {cursor: pointer;display: block;width: 100%;margin-bottom: 0;padding: 0.3em;box-sizing: border-box;text-align: center;}#sk-container-id-1 label.sk-toggleable__label-arrow:before {content: \"▸\";float: left;margin-right: 0.25em;color: #696969;}#sk-container-id-1 label.sk-toggleable__label-arrow:hover:before {color: black;}#sk-container-id-1 div.sk-estimator:hover label.sk-toggleable__label-arrow:before {color: black;}#sk-container-id-1 div.sk-toggleable__content {max-height: 0;max-width: 0;overflow: hidden;text-align: left;background-color: #f0f8ff;}#sk-container-id-1 div.sk-toggleable__content pre {margin: 0.2em;color: black;border-radius: 0.25em;background-color: #f0f8ff;}#sk-container-id-1 input.sk-toggleable__control:checked~div.sk-toggleable__content {max-height: 200px;max-width: 100%;overflow: auto;}#sk-container-id-1 input.sk-toggleable__control:checked~label.sk-toggleable__label-arrow:before {content: \"▾\";}#sk-container-id-1 div.sk-estimator input.sk-toggleable__control:checked~label.sk-toggleable__label {background-color: #d4ebff;}#sk-container-id-1 div.sk-label input.sk-toggleable__control:checked~label.sk-toggleable__label {background-color: #d4ebff;}#sk-container-id-1 input.sk-hidden--visually {border: 0;clip: rect(1px 1px 1px 1px);clip: rect(1px, 1px, 1px, 1px);height: 1px;margin: -1px;overflow: hidden;padding: 0;position: absolute;width: 1px;}#sk-container-id-1 div.sk-estimator {font-family: monospace;background-color: #f0f8ff;border: 1px dotted black;border-radius: 0.25em;box-sizing: border-box;margin-bottom: 0.5em;}#sk-container-id-1 div.sk-estimator:hover {background-color: #d4ebff;}#sk-container-id-1 div.sk-parallel-item::after {content: \"\";width: 100%;border-bottom: 1px solid gray;flex-grow: 1;}#sk-container-id-1 div.sk-label:hover label.sk-toggleable__label {background-color: #d4ebff;}#sk-container-id-1 div.sk-serial::before {content: \"\";position: absolute;border-left: 1px solid gray;box-sizing: border-box;top: 0;bottom: 0;left: 50%;z-index: 0;}#sk-container-id-1 div.sk-serial {display: flex;flex-direction: column;align-items: center;background-color: white;padding-right: 0.2em;padding-left: 0.2em;position: relative;}#sk-container-id-1 div.sk-item {position: relative;z-index: 1;}#sk-container-id-1 div.sk-parallel {display: flex;align-items: stretch;justify-content: center;background-color: white;position: relative;}#sk-container-id-1 div.sk-item::before, #sk-container-id-1 div.sk-parallel-item::before {content: \"\";position: absolute;border-left: 1px solid gray;box-sizing: border-box;top: 0;bottom: 0;left: 50%;z-index: -1;}#sk-container-id-1 div.sk-parallel-item {display: flex;flex-direction: column;z-index: 1;position: relative;background-color: white;}#sk-container-id-1 div.sk-parallel-item:first-child::after {align-self: flex-end;width: 50%;}#sk-container-id-1 div.sk-parallel-item:last-child::after {align-self: flex-start;width: 50%;}#sk-container-id-1 div.sk-parallel-item:only-child::after {width: 0;}#sk-container-id-1 div.sk-dashed-wrapped {border: 1px dashed gray;margin: 0 0.4em 0.5em 0.4em;box-sizing: border-box;padding-bottom: 0.4em;background-color: white;}#sk-container-id-1 div.sk-label label {font-family: monospace;font-weight: bold;display: inline-block;line-height: 1.2em;}#sk-container-id-1 div.sk-label-container {text-align: center;}#sk-container-id-1 div.sk-container {/* jupyter's `normalize.less` sets `[hidden] { display: none; }` but bootstrap.min.css set `[hidden] { display: none !important; }` so we also need the `!important` here to be able to override the default hidden behavior on the sphinx rendered scikit-learn.org. See: https://github.com/scikit-learn/scikit-learn/issues/21755 */display: inline-block !important;position: relative;}#sk-container-id-1 div.sk-text-repr-fallback {display: none;}</style><div id=\"sk-container-id-1\" class=\"sk-top-container\"><div class=\"sk-text-repr-fallback\"><pre>GradientBoostingClassifier(learning_rate=0.284165, max_features=18,\n",
       "                           min_samples_leaf=33)</pre><b>In a Jupyter environment, please rerun this cell to show the HTML representation or trust the notebook. <br />On GitHub, the HTML representation is unable to render, please try loading this page with nbviewer.org.</b></div><div class=\"sk-container\" hidden><div class=\"sk-item\"><div class=\"sk-estimator sk-toggleable\"><input class=\"sk-toggleable__control sk-hidden--visually\" id=\"sk-estimator-id-1\" type=\"checkbox\" checked><label for=\"sk-estimator-id-1\" class=\"sk-toggleable__label sk-toggleable__label-arrow\">GradientBoostingClassifier</label><div class=\"sk-toggleable__content\"><pre>GradientBoostingClassifier(learning_rate=0.284165, max_features=18,\n",
       "                           min_samples_leaf=33)</pre></div></div></div></div></div>"
      ],
      "text/plain": [
       "GradientBoostingClassifier(learning_rate=0.284165, max_features=18,\n",
       "                           min_samples_leaf=33)"
      ]
     },
     "execution_count": 13,
     "metadata": {},
     "output_type": "execute_result"
    }
   ],
   "source": [
    "model = GradientBoostingClassifier(\n",
    "                        learning_rate=0.284165,\n",
    "                        min_samples_leaf=33,\n",
    "                        max_depth = 3,\n",
    "                        max_features = 18\n",
    "                        )\n",
    "model.fit(X_train, y_train)"
   ]
  },
  {
   "cell_type": "code",
   "execution_count": 14,
   "id": "ac6c91f8-b999-495e-b85d-fc2a58fc9348",
   "metadata": {},
   "outputs": [
    {
     "name": "stdout",
     "output_type": "stream",
     "text": [
      "The test set contains 80198 examples (shots) of which 8504 are positive (goals).\n",
      "The accuracy of classifying whether a shot is goal or not is 91%.\n",
      "Our classifier obtains an ROC-AUC of 82%\n"
     ]
    }
   ],
   "source": [
    "print('The test set contains {} examples (shots) of which {} are positive (goals).'.format(len(y_test), y_test.sum()))\n",
    "print('The accuracy of classifying whether a shot is goal or not is {}%.'.format(round(model.score(X_test, y_test)*100),2))\n",
    "print('Our classifier obtains an ROC-AUC of {}%'.format(round(roc_auc_score(y_test, model.predict_proba(X_test)[:, 1])*100),2))"
   ]
  },
  {
   "cell_type": "code",
   "execution_count": 15,
   "id": "e5eda9f3-e91c-4a6b-af73-039904dac990",
   "metadata": {},
   "outputs": [
    {
     "name": "stdout",
     "output_type": "stream",
     "text": [
      "The baseline performance for PR-AUC is 0.11%. This is the PR-AUC that what we would get by random guessing.\n",
      "Our model obtains an PR-AUC of 47.38%.\n",
      "Our classifier obtains a Cohen Kappa of 0.35.\n"
     ]
    }
   ],
   "source": [
    "print('The baseline performance for PR-AUC is {}%. This is the PR-AUC that what we would get by random guessing.'.format(round(y_train.mean(),2)))\n",
    "print('Our model obtains an PR-AUC of {}%.'.format(round(average_precision_score(y_test, model.predict_proba(X_test)[:, 1])*100,2)))\n",
    "print('Our classifier obtains a Cohen Kappa of {}.'.format(round(cohen_kappa_score(y_test,model.predict(X_test)),2)))"
   ]
  },
  {
   "cell_type": "code",
   "execution_count": 16,
   "id": "db72f327-28ba-4c2a-98a7-094349f82ab3",
   "metadata": {},
   "outputs": [
    {
     "name": "stdout",
     "output_type": "stream",
     "text": [
      "\u001b[1m\u001b[93mConfusion Matrix:\n",
      "\u001b[0m\n",
      "[[70818   876]\n",
      " [ 6256  2248]]\n",
      "\u001b[1m\u001b[93m\n",
      " Report:\u001b[0m\n",
      "              precision    recall  f1-score   support\n",
      "\n",
      "           0       0.92      0.99      0.95     71694\n",
      "           1       0.72      0.26      0.39      8504\n",
      "\n",
      "    accuracy                           0.91     80198\n",
      "   macro avg       0.82      0.63      0.67     80198\n",
      "weighted avg       0.90      0.91      0.89     80198\n",
      "\n"
     ]
    }
   ],
   "source": [
    "print(color.BOLD + color.YELLOW + 'Confusion Matrix:\\n' + color.END)\n",
    "print(confusion_matrix(y_test,model.predict(X_test)))\n",
    "print(color.BOLD +  color.YELLOW + '\\n Report:' + color.END)\n",
    "print(classification_report(y_test,model.predict(X_test)))"
   ]
  },
  {
   "cell_type": "code",
   "execution_count": null,
   "id": "4e5df8c2-1e73-4e1e-816a-55490f460aae",
   "metadata": {},
   "outputs": [],
   "source": []
  }
 ],
 "metadata": {
  "kernelspec": {
   "display_name": "Python 3 (ipykernel)",
   "language": "python",
   "name": "python3"
  },
  "language_info": {
   "codemirror_mode": {
    "name": "ipython",
    "version": 3
   },
   "file_extension": ".py",
   "mimetype": "text/x-python",
   "name": "python",
   "nbconvert_exporter": "python",
   "pygments_lexer": "ipython3",
   "version": "3.11.5"
  }
 },
 "nbformat": 4,
 "nbformat_minor": 5
}
